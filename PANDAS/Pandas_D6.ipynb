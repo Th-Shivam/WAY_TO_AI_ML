{
 "cells": [
  {
   "cell_type": "markdown",
   "id": "71b71ae3-4e4c-4153-a20e-060fffa5f6ab",
   "metadata": {},
   "source": [
    "## Pandas from yt - Data School , W-1 , D-6 SOM"
   ]
  },
  {
   "cell_type": "markdown",
   "id": "2562508b-83c9-4892-9f13-3ff0db7a86fd",
   "metadata": {},
   "source": [
    "[Acces the playlist by clicking here ](https://youtube.com/playlist?list=PL5-da3qGB5ICCsgW1MxlZ0Hq8LL5U3u9y&si=XvdrBBpF6eskJDaV)"
   ]
  },
  {
   "cell_type": "code",
   "execution_count": 3,
   "id": "dc294280-983c-4a12-bccb-4679df607ea4",
   "metadata": {},
   "outputs": [],
   "source": [
    "# Using string methods in pandas"
   ]
  },
  {
   "cell_type": "code",
   "execution_count": 4,
   "id": "c52d9a83-3167-47cc-a5a6-16def5409151",
   "metadata": {},
   "outputs": [],
   "source": [
    "import pandas as pd "
   ]
  },
  {
   "cell_type": "code",
   "execution_count": 7,
   "id": "ac9a6154-9346-468b-aff2-2d92ef0c0437",
   "metadata": {},
   "outputs": [],
   "source": [
    "orders = pd.read_csv('http://bit.ly/chiporders')"
   ]
  },
  {
   "cell_type": "code",
   "execution_count": 8,
   "id": "05e2c309-7b63-4486-88c2-92eb07a360e5",
   "metadata": {},
   "outputs": [
    {
     "data": {
      "text/html": [
       "<div>\n",
       "<style scoped>\n",
       "    .dataframe tbody tr th:only-of-type {\n",
       "        vertical-align: middle;\n",
       "    }\n",
       "\n",
       "    .dataframe tbody tr th {\n",
       "        vertical-align: top;\n",
       "    }\n",
       "\n",
       "    .dataframe thead th {\n",
       "        text-align: right;\n",
       "    }\n",
       "</style>\n",
       "<table border=\"1\" class=\"dataframe\">\n",
       "  <thead>\n",
       "    <tr style=\"text-align: right;\">\n",
       "      <th></th>\n",
       "      <th>City</th>\n",
       "      <th>Colors Reported</th>\n",
       "      <th>Shape Reported</th>\n",
       "      <th>State</th>\n",
       "      <th>Time</th>\n",
       "    </tr>\n",
       "  </thead>\n",
       "  <tbody>\n",
       "    <tr>\n",
       "      <th>0</th>\n",
       "      <td>Ithaca</td>\n",
       "      <td>NaN</td>\n",
       "      <td>TRIANGLE</td>\n",
       "      <td>NY</td>\n",
       "      <td>6/1/1930 22:00</td>\n",
       "    </tr>\n",
       "    <tr>\n",
       "      <th>1</th>\n",
       "      <td>Willingboro</td>\n",
       "      <td>NaN</td>\n",
       "      <td>OTHER</td>\n",
       "      <td>NJ</td>\n",
       "      <td>6/30/1930 20:00</td>\n",
       "    </tr>\n",
       "    <tr>\n",
       "      <th>2</th>\n",
       "      <td>Holyoke</td>\n",
       "      <td>NaN</td>\n",
       "      <td>OVAL</td>\n",
       "      <td>CO</td>\n",
       "      <td>2/15/1931 14:00</td>\n",
       "    </tr>\n",
       "    <tr>\n",
       "      <th>3</th>\n",
       "      <td>Abilene</td>\n",
       "      <td>NaN</td>\n",
       "      <td>DISK</td>\n",
       "      <td>KS</td>\n",
       "      <td>6/1/1931 13:00</td>\n",
       "    </tr>\n",
       "    <tr>\n",
       "      <th>4</th>\n",
       "      <td>New York Worlds Fair</td>\n",
       "      <td>NaN</td>\n",
       "      <td>LIGHT</td>\n",
       "      <td>NY</td>\n",
       "      <td>4/18/1933 19:00</td>\n",
       "    </tr>\n",
       "  </tbody>\n",
       "</table>\n",
       "</div>"
      ],
      "text/plain": [
       "                   City Colors Reported Shape Reported State             Time\n",
       "0                Ithaca             NaN       TRIANGLE    NY   6/1/1930 22:00\n",
       "1           Willingboro             NaN          OTHER    NJ  6/30/1930 20:00\n",
       "2               Holyoke             NaN           OVAL    CO  2/15/1931 14:00\n",
       "3               Abilene             NaN           DISK    KS   6/1/1931 13:00\n",
       "4  New York Worlds Fair             NaN          LIGHT    NY  4/18/1933 19:00"
      ]
     },
     "execution_count": 8,
     "metadata": {},
     "output_type": "execute_result"
    }
   ],
   "source": [
    "orders.head()"
   ]
  },
  {
   "cell_type": "code",
   "execution_count": 9,
   "id": "955a1520-ed74-48a0-9b4c-b4be0c01f68a",
   "metadata": {},
   "outputs": [
    {
     "data": {
      "text/plain": [
       "0                      ITHACA\n",
       "1                 WILLINGBORO\n",
       "2                     HOLYOKE\n",
       "3                     ABILENE\n",
       "4        NEW YORK WORLDS FAIR\n",
       "                 ...         \n",
       "18236              GRANT PARK\n",
       "18237             SPIRIT LAKE\n",
       "18238             EAGLE RIVER\n",
       "18239             EAGLE RIVER\n",
       "18240                    YBOR\n",
       "Name: City, Length: 18241, dtype: object"
      ]
     },
     "execution_count": 9,
     "metadata": {},
     "output_type": "execute_result"
    }
   ],
   "source": [
    "orders.City.str.upper()"
   ]
  },
  {
   "cell_type": "code",
   "execution_count": 12,
   "id": "208473ad-0f48-4786-bbd3-336099a7514c",
   "metadata": {},
   "outputs": [
    {
     "data": {
      "text/html": [
       "<div>\n",
       "<style scoped>\n",
       "    .dataframe tbody tr th:only-of-type {\n",
       "        vertical-align: middle;\n",
       "    }\n",
       "\n",
       "    .dataframe tbody tr th {\n",
       "        vertical-align: top;\n",
       "    }\n",
       "\n",
       "    .dataframe thead th {\n",
       "        text-align: right;\n",
       "    }\n",
       "</style>\n",
       "<table border=\"1\" class=\"dataframe\">\n",
       "  <thead>\n",
       "    <tr style=\"text-align: right;\">\n",
       "      <th></th>\n",
       "      <th>City</th>\n",
       "      <th>Colors Reported</th>\n",
       "      <th>Shape Reported</th>\n",
       "      <th>State</th>\n",
       "      <th>Time</th>\n",
       "    </tr>\n",
       "  </thead>\n",
       "  <tbody>\n",
       "    <tr>\n",
       "      <th>0</th>\n",
       "      <td>Ithaca</td>\n",
       "      <td>NaN</td>\n",
       "      <td>TRIANGLE</td>\n",
       "      <td>NY</td>\n",
       "      <td>6/1/1930 22:00</td>\n",
       "    </tr>\n",
       "    <tr>\n",
       "      <th>1</th>\n",
       "      <td>Willingboro</td>\n",
       "      <td>NaN</td>\n",
       "      <td>OTHER</td>\n",
       "      <td>NJ</td>\n",
       "      <td>6/30/1930 20:00</td>\n",
       "    </tr>\n",
       "    <tr>\n",
       "      <th>4</th>\n",
       "      <td>New York Worlds Fair</td>\n",
       "      <td>NaN</td>\n",
       "      <td>LIGHT</td>\n",
       "      <td>NY</td>\n",
       "      <td>4/18/1933 19:00</td>\n",
       "    </tr>\n",
       "    <tr>\n",
       "      <th>5</th>\n",
       "      <td>Valley City</td>\n",
       "      <td>NaN</td>\n",
       "      <td>DISK</td>\n",
       "      <td>ND</td>\n",
       "      <td>9/15/1934 15:30</td>\n",
       "    </tr>\n",
       "    <tr>\n",
       "      <th>18</th>\n",
       "      <td>Oneida</td>\n",
       "      <td>NaN</td>\n",
       "      <td>RECTANGLE</td>\n",
       "      <td>TN</td>\n",
       "      <td>7/15/1942 1:00</td>\n",
       "    </tr>\n",
       "    <tr>\n",
       "      <th>...</th>\n",
       "      <td>...</td>\n",
       "      <td>...</td>\n",
       "      <td>...</td>\n",
       "      <td>...</td>\n",
       "      <td>...</td>\n",
       "    </tr>\n",
       "    <tr>\n",
       "      <th>18194</th>\n",
       "      <td>Walpole</td>\n",
       "      <td>GREEN</td>\n",
       "      <td>FIREBALL</td>\n",
       "      <td>NH</td>\n",
       "      <td>12/26/2000 18:20</td>\n",
       "    </tr>\n",
       "    <tr>\n",
       "      <th>18195</th>\n",
       "      <td>Walpole</td>\n",
       "      <td>GREEN</td>\n",
       "      <td>FIREBALL</td>\n",
       "      <td>NH</td>\n",
       "      <td>12/26/2000 18:20</td>\n",
       "    </tr>\n",
       "    <tr>\n",
       "      <th>18206</th>\n",
       "      <td>Cerrilillo</td>\n",
       "      <td>NaN</td>\n",
       "      <td>NaN</td>\n",
       "      <td>NM</td>\n",
       "      <td>12/28/2000 11:00</td>\n",
       "    </tr>\n",
       "    <tr>\n",
       "      <th>18208</th>\n",
       "      <td>Murphreesboro</td>\n",
       "      <td>NaN</td>\n",
       "      <td>FLASH</td>\n",
       "      <td>TN</td>\n",
       "      <td>12/28/2000 12:15</td>\n",
       "    </tr>\n",
       "    <tr>\n",
       "      <th>18221</th>\n",
       "      <td>Franklin</td>\n",
       "      <td>NaN</td>\n",
       "      <td>DISK</td>\n",
       "      <td>NH</td>\n",
       "      <td>12/29/2000 20:50</td>\n",
       "    </tr>\n",
       "  </tbody>\n",
       "</table>\n",
       "<p>3308 rows × 5 columns</p>\n",
       "</div>"
      ],
      "text/plain": [
       "                       City Colors Reported Shape Reported State  \\\n",
       "0                    Ithaca             NaN       TRIANGLE    NY   \n",
       "1               Willingboro             NaN          OTHER    NJ   \n",
       "4      New York Worlds Fair             NaN          LIGHT    NY   \n",
       "5               Valley City             NaN           DISK    ND   \n",
       "18                   Oneida             NaN      RECTANGLE    TN   \n",
       "...                     ...             ...            ...   ...   \n",
       "18194               Walpole           GREEN       FIREBALL    NH   \n",
       "18195               Walpole           GREEN       FIREBALL    NH   \n",
       "18206            Cerrilillo             NaN            NaN    NM   \n",
       "18208         Murphreesboro             NaN          FLASH    TN   \n",
       "18221              Franklin             NaN           DISK    NH   \n",
       "\n",
       "                   Time  \n",
       "0        6/1/1930 22:00  \n",
       "1       6/30/1930 20:00  \n",
       "4       4/18/1933 19:00  \n",
       "5       9/15/1934 15:30  \n",
       "18       7/15/1942 1:00  \n",
       "...                 ...  \n",
       "18194  12/26/2000 18:20  \n",
       "18195  12/26/2000 18:20  \n",
       "18206  12/28/2000 11:00  \n",
       "18208  12/28/2000 12:15  \n",
       "18221  12/29/2000 20:50  \n",
       "\n",
       "[3308 rows x 5 columns]"
      ]
     },
     "execution_count": 12,
     "metadata": {},
     "output_type": "execute_result"
    }
   ],
   "source": [
    "orders[orders.State.str.contains('N')]"
   ]
  },
  {
   "cell_type": "code",
   "execution_count": null,
   "id": "bba99bcf-9232-4a6a-977b-dc791a6f0042",
   "metadata": {},
   "outputs": [],
   "source": []
  }
 ],
 "metadata": {
  "kernelspec": {
   "display_name": "Python [conda env:base] *",
   "language": "python",
   "name": "conda-base-py"
  },
  "language_info": {
   "codemirror_mode": {
    "name": "ipython",
    "version": 3
   },
   "file_extension": ".py",
   "mimetype": "text/x-python",
   "name": "python",
   "nbconvert_exporter": "python",
   "pygments_lexer": "ipython3",
   "version": "3.13.5"
  }
 },
 "nbformat": 4,
 "nbformat_minor": 5
}
