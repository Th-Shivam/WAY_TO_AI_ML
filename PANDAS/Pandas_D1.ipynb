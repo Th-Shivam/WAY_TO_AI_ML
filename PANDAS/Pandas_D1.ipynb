{
 "cells": [
  {
   "cell_type": "markdown",
   "id": "4b2b0612-7132-4b91-b04c-a35603194e36",
   "metadata": {},
   "source": [
    "## Mastering PANDAS\n"
   ]
  },
  {
   "cell_type": "markdown",
   "id": "0ab23939-be85-45a8-9dad-6543434f1104",
   "metadata": {},
   "source": [
    "Series is a data containing only one row or only column , meaning its a 1d array ."
   ]
  },
  {
   "cell_type": "markdown",
   "id": "82c014af-fe66-4835-9d5a-afa0c144c376",
   "metadata": {},
   "source": [
    "DataFrame refers to tabular data , consisting of rows and columns , meaning its a 2d array ."
   ]
  },
  {
   "cell_type": "code",
   "execution_count": 4,
   "id": "750eaef7-ebb9-4374-99cd-a80ba2e7b5c1",
   "metadata": {},
   "outputs": [],
   "source": [
    "#Import the required libraries . \n",
    "import numpy as np \n",
    "import pandas as pd"
   ]
  },
  {
   "cell_type": "code",
   "execution_count": 5,
   "id": "2615dacd-1137-4b54-85fa-c7c4e542ca54",
   "metadata": {},
   "outputs": [
    {
     "name": "stdout",
     "output_type": "stream",
     "text": [
      "Empty DataFrame\n",
      "Columns: []\n",
      "Index: []\n"
     ]
    }
   ],
   "source": [
    "# Creating empty dataframe , now onwards we will use df as an alias for DataFrame .\n",
    "df = pd.DataFrame()\n",
    "print(df)"
   ]
  },
  {
   "cell_type": "code",
   "execution_count": 6,
   "id": "6ffd5610-acb7-4c90-88a5-e9b987c9e8f3",
   "metadata": {},
   "outputs": [
    {
     "name": "stdout",
     "output_type": "stream",
     "text": [
      "   0\n",
      "0  1\n",
      "1  2\n",
      "2  3\n",
      "3  4\n",
      "4  5\n"
     ]
    }
   ],
   "source": [
    "#Creating a DataFrame from a list .\n",
    "data = [1,2,3,4,5]\n",
    "df = pd.DataFrame(data)\n",
    "print(df)"
   ]
  },
  {
   "cell_type": "code",
   "execution_count": 7,
   "id": "1e563087-390f-43ff-a8cd-811c17dd792d",
   "metadata": {},
   "outputs": [
    {
     "name": "stdout",
     "output_type": "stream",
     "text": [
      "        0\n",
      "0       1\n",
      "1  [a, 3]\n",
      "2       4\n",
      "3  [b, 5]\n"
     ]
    }
   ],
   "source": [
    "# Creating DataFrame from a list of lists .\n",
    "data = [1,['a' , 3],4,['b',5]]\n",
    "df = pd.DataFrame(data)\n",
    "print(df)"
   ]
  },
  {
   "cell_type": "code",
   "execution_count": 9,
   "id": "6ef9f1e1-b281-4526-86ac-7ee4476ef380",
   "metadata": {},
   "outputs": [
    {
     "name": "stdout",
     "output_type": "stream",
     "text": [
      "      Name  Marks\n",
      "0    Dolly     67\n",
      "1  Arunima     88\n",
      "2  Janhavi     85\n"
     ]
    }
   ],
   "source": [
    "# Creating DataFrame from dictionary , but when doing so remember that all the ndarrays must be of same length .\n",
    "data = [['Dolly',67],['Arunima',88],['Janhavi',85]]\n",
    "df = pd.DataFrame(data , columns = ['Name' , 'Marks'])\n",
    "print(df)"
   ]
  },
  {
   "cell_type": "code",
   "execution_count": 11,
   "id": "4619600f-254a-435d-bf1d-24a131170d66",
   "metadata": {},
   "outputs": [
    {
     "name": "stdout",
     "output_type": "stream",
     "text": [
      "      Name  Marks\n",
      "0   Shivam     88\n",
      "1  Shubham     85\n",
      "2      Raj     86\n"
     ]
    }
   ],
   "source": [
    "# Creating a DataFrame from a dictionary containing lists .\n",
    "data = {'Name':['Shivam','Shubham','Raj'] , 'Marks':[88,85,86]}\n",
    "df = pd.DataFrame(data)\n",
    "print(df)"
   ]
  },
  {
   "cell_type": "code",
   "execution_count": 13,
   "id": "98e133af-13b1-415b-9f35-6e5fc931c6a5",
   "metadata": {},
   "outputs": [
    {
     "name": "stdout",
     "output_type": "stream",
     "text": [
      "      Name  Marks\n",
      "S1  Shivam     90\n",
      "S2   Munnu     88\n"
     ]
    }
   ],
   "source": [
    "# Creating a DataFrame from a lists containing dictionary .\n",
    "data = [{'Name':'Shivam' , 'Marks':90},{'Name':'Munnu' , 'Marks':88}]\n",
    "df = pd.DataFrame(data , index=['S1' , 'S2'])\n",
    "print(df)"
   ]
  },
  {
   "cell_type": "code",
   "execution_count": 14,
   "id": "afd71a20-0976-4fdb-bd3f-a1c98843d77a",
   "metadata": {},
   "outputs": [
    {
     "name": "stdout",
     "output_type": "stream",
     "text": [
      "    Kiara  Adani\n",
      "M1     89     69\n",
      "M2     70     73\n",
      "M3     75     85\n"
     ]
    }
   ],
   "source": [
    "#Creating a DataFrame from a dictionary of series .\n",
    "data = {'Kiara' : pd.Series([89,70,75] , index=['M1','M2','M3']) ,\n",
    "        'Adani' : pd.Series([69,73,85] , index=['M1','M2','M3']) }\n",
    "df = pd.DataFrame(data)\n",
    "print(df)\n",
    "        "
   ]
  },
  {
   "cell_type": "code",
   "execution_count": null,
   "id": "312062d0-1c3e-4673-b73d-d2e71e6370c5",
   "metadata": {},
   "outputs": [],
   "source": []
  }
 ],
 "metadata": {
  "kernelspec": {
   "display_name": "Python [conda env:base] *",
   "language": "python",
   "name": "conda-base-py"
  },
  "language_info": {
   "codemirror_mode": {
    "name": "ipython",
    "version": 3
   },
   "file_extension": ".py",
   "mimetype": "text/x-python",
   "name": "python",
   "nbconvert_exporter": "python",
   "pygments_lexer": "ipython3",
   "version": "3.13.5"
  }
 },
 "nbformat": 4,
 "nbformat_minor": 5
}
